{
  "nbformat": 4,
  "nbformat_minor": 0,
  "metadata": {
    "colab": {
      "name": "PySpark_Regression_Analysis.ipynb",
      "provenance": [],
      "include_colab_link": true
    },
    "kernelspec": {
      "name": "python3",
      "display_name": "Python 3"
    }
  },
  "cells": [
    {
      "cell_type": "markdown",
      "metadata": {
        "id": "view-in-github",
        "colab_type": "text"
      },
      "source": [
        "<a href=\"https://colab.research.google.com/github/arieframasyarif/PySpark-Regression-Analysis/blob/master/PySpark_Regression_Analysis.ipynb\" target=\"_parent\"><img src=\"https://colab.research.google.com/assets/colab-badge.svg\" alt=\"Open In Colab\"/></a>"
      ]
    },
    {
      "cell_type": "markdown",
      "metadata": {
        "id": "-jQwmhaBlwiw",
        "colab_type": "text"
      },
      "source": [
        "**Running Pyspark in Colab**\n",
        "\n",
        "\n"
      ]
    },
    {
      "cell_type": "markdown",
      "metadata": {
        "id": "_xCkhNITmZ2Z",
        "colab_type": "text"
      },
      "source": [
        "**Install the dependencies**\n",
        "https://www-us.apache.org/dist/spark/\n",
        "\n"
      ]
    },
    {
      "cell_type": "code",
      "metadata": {
        "id": "bTrk_ci2mxmW",
        "colab_type": "code",
        "colab": {}
      },
      "source": [
        "!apt-get install openjdk-8-jdk-headless -qq > /dev/null\n",
        "!wget -q https://www-us.apache.org/dist/spark/spark-2.4.4/spark-2.4.4-bin-hadoop2.7.tgz\n",
        "!tar xf spark-2.4.4-bin-hadoop2.7.tgz\n",
        "!pip install -q findspark"
      ],
      "execution_count": 0,
      "outputs": []
    },
    {
      "cell_type": "markdown",
      "metadata": {
        "id": "3jmlzx5zoAUu",
        "colab_type": "text"
      },
      "source": [
        "**Set the location of Java and Spark**"
      ]
    },
    {
      "cell_type": "code",
      "metadata": {
        "id": "dZMn2kyuoMwd",
        "colab_type": "code",
        "colab": {}
      },
      "source": [
        "\n",
        "import os\n",
        "os.environ[\"JAVA_HOME\"] = \"/usr/lib/jvm/java-8-openjdk-amd64\"\n",
        "os.environ[\"SPARK_HOME\"] = \"/content/spark-2.4.4-bin-hadoop2.7\""
      ],
      "execution_count": 0,
      "outputs": []
    },
    {
      "cell_type": "markdown",
      "metadata": {
        "id": "mZb8iFE5oiEN",
        "colab_type": "text"
      },
      "source": [
        "**Run a local spark session to test our installation**"
      ]
    },
    {
      "cell_type": "code",
      "metadata": {
        "id": "FWcI4dYAolVy",
        "colab_type": "code",
        "colab": {}
      },
      "source": [
        "import findspark\n",
        "findspark.init()\n",
        "from pyspark.sql import SparkSession\n",
        "spark = SparkSession.builder.master(\"local[*]\").getOrCreate()"
      ],
      "execution_count": 0,
      "outputs": []
    },
    {
      "cell_type": "markdown",
      "metadata": {
        "id": "2RMTpNEZs3aw",
        "colab_type": "text"
      },
      "source": [
        "**Mount Google Drive**"
      ]
    },
    {
      "cell_type": "code",
      "metadata": {
        "id": "A53jFQM9s9DS",
        "colab_type": "code",
        "outputId": "8d0a4cf3-4486-4144-a6bc-b1944f4cb10f",
        "colab": {
          "base_uri": "https://localhost:8080/",
          "height": 126
        }
      },
      "source": [
        "from google.colab import drive\n",
        "drive.mount('/content/gdrive')"
      ],
      "execution_count": 0,
      "outputs": [
        {
          "output_type": "stream",
          "text": [
            "Go to this URL in a browser: https://accounts.google.com/o/oauth2/auth?client_id=947318989803-6bn6qk8qdgf4n4g3pfee6491hc0brc4i.apps.googleusercontent.com&redirect_uri=urn%3Aietf%3Awg%3Aoauth%3A2.0%3Aoob&scope=email%20https%3A%2F%2Fwww.googleapis.com%2Fauth%2Fdocs.test%20https%3A%2F%2Fwww.googleapis.com%2Fauth%2Fdrive%20https%3A%2F%2Fwww.googleapis.com%2Fauth%2Fdrive.photos.readonly%20https%3A%2F%2Fwww.googleapis.com%2Fauth%2Fpeopleapi.readonly&response_type=code\n",
            "\n",
            "Enter your authorization code:\n",
            "··········\n",
            "Mounted at /content/gdrive\n"
          ],
          "name": "stdout"
        }
      ]
    },
    {
      "cell_type": "markdown",
      "metadata": {
        "id": "mINkCCqttkbG",
        "colab_type": "text"
      },
      "source": [
        "**Read dataset**"
      ]
    },
    {
      "cell_type": "code",
      "metadata": {
        "id": "FlYFzNgUtoYT",
        "colab_type": "code",
        "outputId": "25fe99f9-39d6-4930-f27e-0837d81ce735",
        "colab": {
          "base_uri": "https://localhost:8080/",
          "height": 215
        }
      },
      "source": [
        "from pyspark.ml.feature import VectorAssembler\n",
        "from pyspark.ml.regression import LinearRegression\n",
        "dataset = spark.read.csv('/content/gdrive/My Drive/Dataset-PySpark/BostonHousing.csv',inferSchema=True, header =True)\n",
        "dataset.head(10)"
      ],
      "execution_count": 0,
      "outputs": [
        {
          "output_type": "execute_result",
          "data": {
            "text/plain": [
              "[Row(crim=0.00632, zn=18.0, indus=2.31, chas=0, nox=0.538, rm=6.575, age=65.2, dis=4.09, rad=1, tax=296, ptratio=15.3, b=396.9, lstat=4.98, medv=24.0),\n",
              " Row(crim=0.02731, zn=0.0, indus=7.07, chas=0, nox=0.469, rm=6.421, age=78.9, dis=4.9671, rad=2, tax=242, ptratio=17.8, b=396.9, lstat=9.14, medv=21.6),\n",
              " Row(crim=0.02729, zn=0.0, indus=7.07, chas=0, nox=0.469, rm=7.185, age=61.1, dis=4.9671, rad=2, tax=242, ptratio=17.8, b=392.83, lstat=4.03, medv=34.7),\n",
              " Row(crim=0.03237, zn=0.0, indus=2.18, chas=0, nox=0.458, rm=6.998, age=45.8, dis=6.0622, rad=3, tax=222, ptratio=18.7, b=394.63, lstat=2.94, medv=33.4),\n",
              " Row(crim=0.06905, zn=0.0, indus=2.18, chas=0, nox=0.458, rm=7.147, age=54.2, dis=6.0622, rad=3, tax=222, ptratio=18.7, b=396.9, lstat=5.33, medv=36.2),\n",
              " Row(crim=0.02985, zn=0.0, indus=2.18, chas=0, nox=0.458, rm=6.43, age=58.7, dis=6.0622, rad=3, tax=222, ptratio=18.7, b=394.12, lstat=5.21, medv=28.7),\n",
              " Row(crim=0.08829, zn=12.5, indus=7.87, chas=0, nox=0.524, rm=6.012, age=66.6, dis=5.5605, rad=5, tax=311, ptratio=15.2, b=395.6, lstat=12.43, medv=22.9),\n",
              " Row(crim=0.14455, zn=12.5, indus=7.87, chas=0, nox=0.524, rm=6.172, age=96.1, dis=5.9505, rad=5, tax=311, ptratio=15.2, b=396.9, lstat=19.15, medv=27.1),\n",
              " Row(crim=0.21124, zn=12.5, indus=7.87, chas=0, nox=0.524, rm=5.631, age=100.0, dis=6.0821, rad=5, tax=311, ptratio=15.2, b=386.63, lstat=29.93, medv=16.5),\n",
              " Row(crim=0.17004, zn=12.5, indus=7.87, chas=0, nox=0.524, rm=6.004, age=85.9, dis=6.5921, rad=5, tax=311, ptratio=15.2, b=386.71, lstat=17.1, medv=18.9)]"
            ]
          },
          "metadata": {
            "tags": []
          },
          "execution_count": 10
        }
      ]
    },
    {
      "cell_type": "markdown",
      "metadata": {
        "id": "hZCyyBPiuTeZ",
        "colab_type": "text"
      },
      "source": [
        "**Data types of each column**"
      ]
    },
    {
      "cell_type": "code",
      "metadata": {
        "id": "Kx199E4st_Nf",
        "colab_type": "code",
        "outputId": "fd27ed09-e7e4-43b5-c330-d561fbef4334",
        "colab": {
          "base_uri": "https://localhost:8080/",
          "height": 301
        }
      },
      "source": [
        "dataset.printSchema()"
      ],
      "execution_count": 0,
      "outputs": [
        {
          "output_type": "stream",
          "text": [
            "root\n",
            " |-- crim: double (nullable = true)\n",
            " |-- zn: double (nullable = true)\n",
            " |-- indus: double (nullable = true)\n",
            " |-- chas: integer (nullable = true)\n",
            " |-- nox: double (nullable = true)\n",
            " |-- rm: double (nullable = true)\n",
            " |-- age: double (nullable = true)\n",
            " |-- dis: double (nullable = true)\n",
            " |-- rad: integer (nullable = true)\n",
            " |-- tax: integer (nullable = true)\n",
            " |-- ptratio: double (nullable = true)\n",
            " |-- b: double (nullable = true)\n",
            " |-- lstat: double (nullable = true)\n",
            " |-- medv: double (nullable = true)\n",
            "\n"
          ],
          "name": "stdout"
        }
      ]
    },
    {
      "cell_type": "code",
      "metadata": {
        "id": "VEJbGQtRuYW7",
        "colab_type": "code",
        "outputId": "c8cc5867-b9fc-4c95-c20d-b2e8c4a188be",
        "colab": {
          "base_uri": "https://localhost:8080/",
          "height": 479
        }
      },
      "source": [
        "#Input all the features in one vector column\n",
        "assembler = VectorAssembler(inputCols=['crim', 'zn', 'indus', 'chas', 'nox', 'rm', 'age', 'dis', 'rad', 'tax', 'ptratio', 'b', 'lstat'], outputCol = 'Attributes')\n",
        "output = assembler.transform(dataset)\n",
        "#Input vs Output\n",
        "finalized_data = output.select(\"Attributes\",\"medv\")\n",
        "finalized_data.show()"
      ],
      "execution_count": 0,
      "outputs": [
        {
          "output_type": "stream",
          "text": [
            "+--------------------+----+\n",
            "|          Attributes|medv|\n",
            "+--------------------+----+\n",
            "|[0.00632,18.0,2.3...|24.0|\n",
            "|[0.02731,0.0,7.07...|21.6|\n",
            "|[0.02729,0.0,7.07...|34.7|\n",
            "|[0.03237,0.0,2.18...|33.4|\n",
            "|[0.06905,0.0,2.18...|36.2|\n",
            "|[0.02985,0.0,2.18...|28.7|\n",
            "|[0.08829,12.5,7.8...|22.9|\n",
            "|[0.14455,12.5,7.8...|27.1|\n",
            "|[0.21124,12.5,7.8...|16.5|\n",
            "|[0.17004,12.5,7.8...|18.9|\n",
            "|[0.22489,12.5,7.8...|15.0|\n",
            "|[0.11747,12.5,7.8...|18.9|\n",
            "|[0.09378,12.5,7.8...|21.7|\n",
            "|[0.62976,0.0,8.14...|20.4|\n",
            "|[0.63796,0.0,8.14...|18.2|\n",
            "|[0.62739,0.0,8.14...|19.9|\n",
            "|[1.05393,0.0,8.14...|23.1|\n",
            "|[0.7842,0.0,8.14,...|17.5|\n",
            "|[0.80271,0.0,8.14...|20.2|\n",
            "|[0.7258,0.0,8.14,...|18.2|\n",
            "+--------------------+----+\n",
            "only showing top 20 rows\n",
            "\n"
          ],
          "name": "stdout"
        }
      ]
    },
    {
      "cell_type": "markdown",
      "metadata": {
        "id": "KdK0IyxZvFbE",
        "colab_type": "text"
      },
      "source": [
        "**Split the training and testing data according to our dataset**"
      ]
    },
    {
      "cell_type": "code",
      "metadata": {
        "id": "ip3fvoi8vH1o",
        "colab_type": "code",
        "outputId": "9bda6121-60f9-4913-8f6b-faf912e9bf8e",
        "colab": {
          "base_uri": "https://localhost:8080/",
          "height": 479
        }
      },
      "source": [
        "#Split training and testing data\n",
        "train_data,test_data = finalized_data.randomSplit([0.8,0.2])\n",
        "regressor = LinearRegression(featuresCol = 'Attributes', labelCol = 'medv')\n",
        "#Learn to fit the model from training set\n",
        "regressor = regressor.fit(train_data)\n",
        "#To predict the prices on testing set\n",
        "pred = regressor.evaluate(test_data)\n",
        "#Predict the model\n",
        "pred.predictions.show()"
      ],
      "execution_count": 0,
      "outputs": [
        {
          "output_type": "stream",
          "text": [
            "+--------------------+----+------------------+\n",
            "|          Attributes|medv|        prediction|\n",
            "+--------------------+----+------------------+\n",
            "|[0.00906,90.0,2.9...|32.2|31.724112473341094|\n",
            "|[0.01301,35.0,1.5...|32.7|30.104132932201132|\n",
            "|[0.01311,90.0,1.2...|35.4| 30.70597051150918|\n",
            "|[0.01778,95.0,1.4...|32.9| 30.76944399452809|\n",
            "|[0.01951,17.5,1.3...|33.0|22.439125753064232|\n",
            "|[0.03113,0.0,4.39...|17.5|16.145107954182393|\n",
            "|[0.03427,0.0,5.19...|19.5|19.806257774036602|\n",
            "|[0.03445,82.5,2.0...|24.1|29.877757091816925|\n",
            "|[0.04301,80.0,1.9...|18.2| 13.71627214631959|\n",
            "|[0.04462,25.0,4.8...|23.9|26.902608971887123|\n",
            "|[0.05023,35.0,6.0...|17.1|20.147759496397402|\n",
            "|[0.05083,0.0,5.19...|22.2|21.492470381896542|\n",
            "|[0.05372,0.0,13.9...|27.1|27.301793388401173|\n",
            "|[0.05425,0.0,4.05...|24.6|  29.3739807062421|\n",
            "|[0.05515,33.0,2.1...|36.1| 33.12293230998227|\n",
            "|[0.05644,40.0,6.4...|32.4| 37.06294146031155|\n",
            "|[0.06263,0.0,11.9...|22.4|23.279243435906217|\n",
            "|[0.06466,70.0,2.2...|22.5|  29.4445357735309|\n",
            "|[0.06617,0.0,3.24...|19.3|21.565093535721637|\n",
            "|[0.06642,0.0,4.05...|29.9|31.601941527780827|\n",
            "+--------------------+----+------------------+\n",
            "only showing top 20 rows\n",
            "\n"
          ],
          "name": "stdout"
        }
      ]
    },
    {
      "cell_type": "markdown",
      "metadata": {
        "id": "UY6ih-h9vTiL",
        "colab_type": "text"
      },
      "source": [
        "**Coefficient and intercept of the regression model**"
      ]
    },
    {
      "cell_type": "code",
      "metadata": {
        "id": "mlVqixk9vbgi",
        "colab_type": "code",
        "outputId": "a4d5c832-de93-44be-cb45-050fd7bc3b0e",
        "colab": {
          "base_uri": "https://localhost:8080/",
          "height": 73
        }
      },
      "source": [
        "#coefficient of the regression model\n",
        "coeff = regressor.coefficients\n",
        "#X and Y intercept\n",
        "intr = regressor.intercept\n",
        "print (\"The coefficient of the model is : %a\" %coeff)\n",
        "print (\"The Intercept of the model is : %f\" %intr)"
      ],
      "execution_count": 0,
      "outputs": [
        {
          "output_type": "stream",
          "text": [
            "The coefficient of the model is : DenseVector([-0.1119, 0.0499, 0.0162, 3.3871, -20.7122, 3.5445, -0.0011, -1.6591, 0.3013, -0.0111, -1.0282, 0.0079, -0.531])\n",
            "The Intercept of the model is : 42.138003\n"
          ],
          "name": "stdout"
        }
      ]
    },
    {
      "cell_type": "markdown",
      "metadata": {
        "id": "ZcI-dwA5vmJ5",
        "colab_type": "text"
      },
      "source": [
        "**Analyze our model statistically by importing RegressionEvaluator module from Pyspark**"
      ]
    },
    {
      "cell_type": "code",
      "metadata": {
        "id": "6b6Tjpogv0ek",
        "colab_type": "code",
        "outputId": "1730fb47-6c40-417a-bc5e-9659acef0af1",
        "colab": {
          "base_uri": "https://localhost:8080/",
          "height": 88
        }
      },
      "source": [
        "from pyspark.ml.evaluation import RegressionEvaluator\n",
        "eval = RegressionEvaluator(labelCol=\"medv\", predictionCol=\"prediction\", metricName=\"rmse\")\n",
        "# Root Mean Square Error\n",
        "rmse = eval.evaluate(pred.predictions)\n",
        "print(\"RMSE: %.3f\" % rmse)\n",
        "# Mean Square Error\n",
        "mse = eval.evaluate(pred.predictions, {eval.metricName: \"mse\"})\n",
        "print(\"MSE: %.3f\" % mse)\n",
        "# Mean Absolute Error\n",
        "mae = eval.evaluate(pred.predictions, {eval.metricName: \"mae\"})\n",
        "print(\"MAE: %.3f\" % mae)\n",
        "# r2 - coefficient of determination\n",
        "r2 = eval.evaluate(pred.predictions, {eval.metricName: \"r2\"})\n",
        "print(\"r2: %.3f\" %r2)"
      ],
      "execution_count": 0,
      "outputs": [
        {
          "output_type": "stream",
          "text": [
            "RMSE: 3.693\n",
            "MSE: 13.639\n",
            "MAE: 2.714\n",
            "r2: 0.780\n"
          ],
          "name": "stdout"
        }
      ]
    }
  ]
}